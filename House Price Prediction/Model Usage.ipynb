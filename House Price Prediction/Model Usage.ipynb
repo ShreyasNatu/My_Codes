{
 "cells": [
  {
   "cell_type": "code",
   "execution_count": 1,
   "id": "1fa65482",
   "metadata": {},
   "outputs": [],
   "source": [
    "from joblib import dump, load\n",
    "import numpy as np\n",
    "model = load('Real_Estate.joblib') "
   ]
  },
  {
   "cell_type": "code",
   "execution_count": 2,
   "id": "5be8e195",
   "metadata": {},
   "outputs": [
    {
     "data": {
      "text/plain": [
       "array([22.638])"
      ]
     },
     "execution_count": 2,
     "metadata": {},
     "output_type": "execute_result"
    }
   ],
   "source": [
    "features = np.array([[-0.34857993,  2.43162828, -0.99172479, -0.27144836, -1.34735047,\n",
    "       -0.30127447, -1.25682801,  2.46694812, -0.91150503, -0.4609256 ,\n",
    "       -0.86345309,  0.34277202, -0.82281876]])\n",
    "model.predict(features)"
   ]
  }
 ],
 "metadata": {
  "kernelspec": {
   "display_name": "Python 3 (ipykernel)",
   "language": "python",
   "name": "python3"
  },
  "language_info": {
   "codemirror_mode": {
    "name": "ipython",
    "version": 3
   },
   "file_extension": ".py",
   "mimetype": "text/x-python",
   "name": "python",
   "nbconvert_exporter": "python",
   "pygments_lexer": "ipython3",
   "version": "3.8.6"
  }
 },
 "nbformat": 4,
 "nbformat_minor": 5
}
