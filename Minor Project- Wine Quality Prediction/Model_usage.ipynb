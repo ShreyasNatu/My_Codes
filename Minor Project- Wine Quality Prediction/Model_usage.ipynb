{
 "cells": [
  {
   "cell_type": "markdown",
   "id": "c08ae910",
   "metadata": {},
   "source": [
    "# Model Usage"
   ]
  },
  {
   "cell_type": "code",
   "execution_count": 1,
   "id": "837e9a25",
   "metadata": {},
   "outputs": [],
   "source": [
    "def model_usage():\n",
    "    # Importing joblib to load the model file\n",
    "    from joblib import load,dump\n",
    "    import warnings\n",
    "    warnings.filterwarnings('ignore')\n",
    "    \n",
    "    #Loading the file\n",
    "    model = load(\"Wine_Quality.joblib\")\n",
    "\n",
    "    import numpy as np\n",
    "    \n",
    "    #Predicting the wine quality given the features \n",
    "    features = np.array([[ 8.     ,  0.38   ,  0.06   ,  1.8    ,  0.078  , 12.     ,\n",
    "           49.     ,  0.99625,  3.37   ,  0.52   ,  9.9    ]])\n",
    "    predictions = model.predict(features)\n",
    "    print(\"Features:\",features)\n",
    "    print(\"Prediction:\",predictions)"
   ]
  },
  {
   "cell_type": "markdown",
   "id": "76900f50",
   "metadata": {},
   "source": [
    "## As we can see, given the features, model can predict the given value"
   ]
  }
 ],
 "metadata": {
  "kernelspec": {
   "display_name": "Python 3 (ipykernel)",
   "language": "python",
   "name": "python3"
  },
  "language_info": {
   "codemirror_mode": {
    "name": "ipython",
    "version": 3
   },
   "file_extension": ".py",
   "mimetype": "text/x-python",
   "name": "python",
   "nbconvert_exporter": "python",
   "pygments_lexer": "ipython3",
   "version": "3.8.6"
  }
 },
 "nbformat": 4,
 "nbformat_minor": 5
}
